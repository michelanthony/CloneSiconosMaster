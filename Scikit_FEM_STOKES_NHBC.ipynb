{
  "cells": [
    {
      "cell_type": "markdown",
      "metadata": {
        "id": "view-in-github",
        "colab_type": "text"
      },
      "source": [
        "<a href=\"https://colab.research.google.com/github/michelanthony/CloneSiconosMaster/blob/master/Scikit_FEM_STOKES_NHBC.ipynb\" target=\"_parent\"><img src=\"https://colab.research.google.com/assets/colab-badge.svg\" alt=\"Open In Colab\"/></a>"
      ]
    },
    {
      "cell_type": "markdown",
      "metadata": {
        "id": "BXKwGcsBUiu_"
      },
      "source": [
        "Run the following cell to install dependencies:"
      ]
    },
    {
      "cell_type": "code",
      "execution_count": null,
      "metadata": {
        "id": "eMYRmpOeUivA",
        "colab": {
          "base_uri": "https://localhost:8080/"
        },
        "outputId": "ab46cd6c-5736-4ae8-a7df-fd29f7973b52"
      },
      "outputs": [
        {
          "output_type": "stream",
          "name": "stdout",
          "text": [
            "Requirement already satisfied: scikit-fem[all] in /usr/local/lib/python3.10/dist-packages (9.0.1)\n",
            "Requirement already satisfied: numpy in /usr/local/lib/python3.10/dist-packages (from scikit-fem[all]) (1.25.2)\n",
            "Requirement already satisfied: scipy in /usr/local/lib/python3.10/dist-packages (from scikit-fem[all]) (1.11.4)\n",
            "Requirement already satisfied: meshio>=4.0.4 in /usr/local/lib/python3.10/dist-packages (from scikit-fem[all]) (5.3.5)\n",
            "Requirement already satisfied: matplotlib in /usr/local/lib/python3.10/dist-packages (from scikit-fem[all]) (3.7.1)\n",
            "Requirement already satisfied: rich in /usr/local/lib/python3.10/dist-packages (from meshio>=4.0.4->scikit-fem[all]) (13.7.1)\n",
            "Requirement already satisfied: contourpy>=1.0.1 in /usr/local/lib/python3.10/dist-packages (from matplotlib->scikit-fem[all]) (1.2.1)\n",
            "Requirement already satisfied: cycler>=0.10 in /usr/local/lib/python3.10/dist-packages (from matplotlib->scikit-fem[all]) (0.12.1)\n",
            "Requirement already satisfied: fonttools>=4.22.0 in /usr/local/lib/python3.10/dist-packages (from matplotlib->scikit-fem[all]) (4.51.0)\n",
            "Requirement already satisfied: kiwisolver>=1.0.1 in /usr/local/lib/python3.10/dist-packages (from matplotlib->scikit-fem[all]) (1.4.5)\n",
            "Requirement already satisfied: packaging>=20.0 in /usr/local/lib/python3.10/dist-packages (from matplotlib->scikit-fem[all]) (24.0)\n",
            "Requirement already satisfied: pillow>=6.2.0 in /usr/local/lib/python3.10/dist-packages (from matplotlib->scikit-fem[all]) (9.4.0)\n",
            "Requirement already satisfied: pyparsing>=2.3.1 in /usr/local/lib/python3.10/dist-packages (from matplotlib->scikit-fem[all]) (3.1.2)\n",
            "Requirement already satisfied: python-dateutil>=2.7 in /usr/local/lib/python3.10/dist-packages (from matplotlib->scikit-fem[all]) (2.8.2)\n",
            "Requirement already satisfied: six>=1.5 in /usr/local/lib/python3.10/dist-packages (from python-dateutil>=2.7->matplotlib->scikit-fem[all]) (1.16.0)\n",
            "Requirement already satisfied: markdown-it-py>=2.2.0 in /usr/local/lib/python3.10/dist-packages (from rich->meshio>=4.0.4->scikit-fem[all]) (3.0.0)\n",
            "Requirement already satisfied: pygments<3.0.0,>=2.13.0 in /usr/local/lib/python3.10/dist-packages (from rich->meshio>=4.0.4->scikit-fem[all]) (2.16.1)\n",
            "Requirement already satisfied: mdurl~=0.1 in /usr/local/lib/python3.10/dist-packages (from markdown-it-py>=2.2.0->rich->meshio>=4.0.4->scikit-fem[all]) (0.1.2)\n"
          ]
        }
      ],
      "source": [
        "!pip install scikit-fem[all]"
      ]
    },
    {
      "cell_type": "code",
      "source": [
        "r\"\"\"Stokes equations.\n",
        "\n",
        "This solves for the creeping flow problem in the primitive variables,\n",
        "i.e. velocity and pressure instead of the stream-function.\n",
        "\n",
        "Equations\n",
        "\n",
        "1/ - \\nu \\Delta {u} + \\rho^{-1} \\nabla p = {f}\n",
        "2/ \\nabla \\cdot {u} = 0\n",
        "\n",
        "This is an example of a mixed problem because it contains two\n",
        "different kinds of unknowns; pairs of elements for them have to be\n",
        "chosen carefully.\n",
        "\n",
        "One of the simplest workable choices is the\n",
        "1/ Taylor-Hood element P_2 for velocity\n",
        "2/ P_1 for pressure.\n",
        "\n",
        "Once the velocity has been found, the stream-function : \\psi can\n",
        "be calculated by solving the Poisson problem\n",
        "\n",
        "-\\Delta \\psi = \\rot {u}\n",
        "\n",
        "where :\n",
        "{rot} {u} \\equiv \\partial u_y / \\partial x - \\partial u_x / \\partial y\n",
        "\n",
        "The boundary conditions are that the stream-function is constant around the impermeable perimeter.\n",
        "This constant can be taken as zero without loss of generality.\n",
        "\n",
        "In the weak formulation :\n",
        "\\left(\\nabla\\phi, \\nabla\\psi\\right) = ( \\phi, \\rot {u} ) , \\forall \\phi \\in H^1_0(\\Omega),\n",
        "\n",
        "The right-hand side can be converted using Green's theorem and the no-slip condition to not involve the derivatives of the velocity:\n",
        "\n",
        "(\\phi, \\rot {u} ) = ( \\rot \\phi, {u} )\n",
        "where \\rot is the adjoint of \\rot :\n",
        "\\rot \\phi \\equiv \\frac { \\partial \\phi }{ \\partial y } \\hat{i} - \\frac{ \\partial\\phi }{ \\partial x } \\hat{j}.\n",
        "\n",
        "\"\"\""
      ],
      "metadata": {
        "colab": {
          "base_uri": "https://localhost:8080/",
          "height": 145
        },
        "id": "LT0apePJ58BX",
        "outputId": "8bd88ada-601a-4d8c-955a-aec22b9bf817"
      },
      "execution_count": null,
      "outputs": [
        {
          "output_type": "execute_result",
          "data": {
            "text/plain": [
              "\"Stokes equations.\\n\\nThis solves for the creeping flow problem in the primitive variables,\\ni.e. velocity and pressure instead of the stream-function.\\n\\nEquations\\n\\n1/ - \\\\nu \\\\Delta {u} + \\\\rho^{-1} \\\\nabla p = {f}\\n2/ \\\\nabla \\\\cdot {u} = 0\\n\\nThis is an example of a mixed problem because it contains two\\ndifferent kinds of unknowns; pairs of elements for them have to be\\nchosen carefully.\\n\\nOne of the simplest workable choices is the\\n1/ Taylor-Hood element P_2 for velocity\\n2/ P_1 for pressure.\\n\\nOnce the velocity has been found, the stream-function : \\\\psi can\\nbe calculated by solving the Poisson problem\\n\\n-\\\\Delta \\\\psi = \\\\rot {u}\\n\\nwhere :\\n{rot} {u} \\\\equiv \\\\partial u_y / \\\\partial x - \\\\partial u_x / \\\\partial y\\n\\nThe boundary conditions are that the stream-function is constant around the impermeable perimeter.\\nThis constant can be taken as zero without loss of generality.\\n\\nIn the weak formulation :\\n\\\\left(\\\\nabla\\\\phi, \\\\nabla\\\\psi\\\\right) = ( \\\\phi, \\\\rot {u} ) , \\\\forall \\\\phi \\\\in H^1_0(\\\\Omega),\\n\\nThe right-hand side can be converted using Green's theorem and the no-slip condition to not involve the derivatives of the velocity:\\n\\n(\\\\phi, \\\\rot {u} ) = ( \\\\rot \\\\phi, {u} )\\nwhere \\\\rot is the adjoint of \\\\rot :\\n\\\\rot \\\\phi \\\\equiv \\\\frac { \\\\partial \\\\phi }{ \\\\partial y } \\\\hat{i} - \\\\frac{ \\\\partial\\\\phi }{ \\\\partial x } \\\\hat{j}.\\n\\n\""
            ],
            "application/vnd.google.colaboratory.intrinsic+json": {
              "type": "string"
            }
          },
          "metadata": {},
          "execution_count": 2
        }
      ]
    },
    {
      "cell_type": "code",
      "source": [
        "from skfem import *\n",
        "from skfem.io.json import from_file\n",
        "from skfem.models.poisson import vector_laplace, mass, laplace\n",
        "from skfem.models.general import divergence, rot\n",
        "\n",
        "from matplotlib.tri import Triangulation\n",
        "from skfem.visuals.matplotlib import plot, draw, savefig\n",
        "\n",
        "from pathlib import Path\n",
        "from os.path import splitext\n",
        "from sys import argv\n",
        "\n",
        "import numpy as np"
      ],
      "metadata": {
        "id": "HjvVl5aaW8oR"
      },
      "execution_count": null,
      "outputs": []
    },
    {
      "cell_type": "code",
      "source": [
        "#==== Generate XY Tensor Grid\n",
        "\n",
        "nx = 5\n",
        "ny = 5\n",
        "xgrid = np.linspace(0,1,nx)\n",
        "ygrid = np.linspace(0,1,ny)\n",
        "\n",
        "mesh = MeshTri.init_tensor(xgrid, ygrid)\n",
        "\n",
        "mesh.save(f'my_mesh_grid_{nx}_{ny}.vtk')\n"
      ],
      "metadata": {
        "colab": {
          "base_uri": "https://localhost:8080/",
          "height": 33
        },
        "id": "ItGcHZlrF_h_",
        "outputId": "20888ec2-e3cc-425e-b77d-6bff889a5b8f"
      },
      "execution_count": null,
      "outputs": [
        {
          "output_type": "display_data",
          "data": {
            "text/plain": [
              "\u001b[1;33mWarning:\u001b[0m\u001b[33m VTK requires 3D points, but 2D points given. Appending \u001b[0m\u001b[1;33m0\u001b[0m\u001b[33m third component.\u001b[0m\n"
            ],
            "text/html": [
              "<pre style=\"white-space:pre;overflow-x:auto;line-height:normal;font-family:Menlo,'DejaVu Sans Mono',consolas,'Courier New',monospace\"><span style=\"color: #808000; text-decoration-color: #808000; font-weight: bold\">Warning:</span><span style=\"color: #808000; text-decoration-color: #808000\"> VTK requires 3D points, but 2D points given. Appending </span><span style=\"color: #808000; text-decoration-color: #808000; font-weight: bold\">0</span><span style=\"color: #808000; text-decoration-color: #808000\"> third component.</span>\n",
              "</pre>\n"
            ]
          },
          "metadata": {}
        }
      ]
    },
    {
      "cell_type": "code",
      "source": [
        "#===== Load Mesh\n",
        "\n",
        "#meshA = MeshTri.load('my_mesh_grid_2_2.vtk')\n",
        "meshA = MeshTri.load('my_mesh_grid_5_5.vtk')\n",
        "#meshA = MeshTri.load('MeshTriActive2D_mid.vtk')\n",
        "\n",
        "#meshA = MeshTri().refined(1)\n",
        "\n",
        "mesh = meshA.with_boundaries({\n",
        "            'xmin': lambda xi: xi[0] == 0,\n",
        "            'xmax': lambda xi: xi[0] == 1\n",
        "        })\n",
        "\n",
        "print(mesh)\n"
      ],
      "metadata": {
        "colab": {
          "base_uri": "https://localhost:8080/"
        },
        "id": "-sY4qfaxFrXW",
        "outputId": "7caedd72-bc74-43d5-8cb4-4b78b0512fe9"
      },
      "execution_count": null,
      "outputs": [
        {
          "output_type": "stream",
          "name": "stdout",
          "text": [
            "<skfem MeshTri1 object>\n",
            "  Number of elements: 32\n",
            "  Number of vertices: 25\n",
            "  Number of nodes: 25\n",
            "  Named boundaries [# facets]: left [4], bottom [4], right [4], top [4], xmin [4], xmax [4]\n"
          ]
        }
      ]
    },
    {
      "cell_type": "code",
      "source": [
        "#============ FEM Solver for u and p\n",
        "\n",
        "# Elements and Basis\n",
        "\n",
        "element = {'u': ElementVector(ElementTriP2()),\n",
        "           'p': ElementTriP1()}\n",
        "\n",
        "basis = {variable: Basis(mesh, e, intorder=3)\n",
        "         for variable, e in element.items()}\n",
        "\n",
        "print('basis=',basis)\n",
        "\n",
        "# Linear Form\n",
        "\n",
        "@LinearForm\n",
        "def body_force(v, w):\n",
        "    return w.x[0] * v[1]\n",
        "\n",
        "# Assembly problem for (u,p)\n",
        "\n",
        "A = asm(vector_laplace, basis['u'])\n",
        "B = asm(divergence, basis['u'], basis['p'])\n",
        "C = asm(mass, basis['p'])\n",
        "\n",
        "# Matrix\n",
        "# K = [ A[u,v] = -Delta(u)*v ,  -Bt[u,q]    = div(u)*q\n",
        "#       B[p,v] = grad(p)*v   ,   1.e-6[p,q] = 1.e-6*p*q ]\n",
        "\n",
        "# Trial = [u,p]\n",
        "# Test  = [v,q]\n",
        "\n",
        "K = bmat([[A, -B.T],\n",
        "          [-B, 1e-6 * C]], 'csr')\n",
        "\n",
        "# Right Hand Side\n",
        "# f  = [ w.u [u]\n",
        "#          0 [p] ]\n",
        "\n",
        "f = np.concatenate([asm(body_force, basis['u']),\n",
        "                    basis['p'].zeros()])\n",
        "\n",
        "# Solve problem for (u,p)\n",
        "\n",
        "u_dofs = basis['u'].get_dofs()\n",
        "print('u_bc_dofs[u^1] =',u_dofs.nodal['u^1'])\n",
        "print('u_bc_dofs[u^2] =',u_dofs.nodal['u^2'])\n",
        "\n",
        "xmin_u_dofs = basis['u'].get_dofs('xmin')\n",
        "xmax_u_dofs = basis['u'].get_dofs('xmax')\n",
        "\n",
        "xmin_p_dofs = basis['p'].get_dofs('xmin')\n",
        "xmax_p_dofs = basis['p'].get_dofs('xmax')\n",
        "\n",
        "print(xmin_u_dofs)\n",
        "print(xmax_u_dofs)\n",
        "\n",
        "print(xmin_p_dofs)\n",
        "print(xmax_p_dofs)\n",
        "\n",
        "# Set boundary conditions on xmin and xmax\n",
        "\n",
        "uvp = solve(*condense(K, f, D=u_dofs))\n",
        "\n",
        "# Extract solution components (u) and (p)\n",
        "\n",
        "velocity, pressure = np.split(uvp, K.blocks)"
      ],
      "metadata": {
        "id": "FNo6woxc84Fz",
        "colab": {
          "base_uri": "https://localhost:8080/"
        },
        "outputId": "d77ca06d-649c-4e61-8b05-e746187d15f2"
      },
      "execution_count": null,
      "outputs": [
        {
          "output_type": "stream",
          "name": "stdout",
          "text": [
            "basis= {'u': <skfem CellBasis(MeshTri1, ElementVector) object>\n",
            "  Number of elements: 32\n",
            "  Number of DOFs: 162\n",
            "  Size: 73728 B, 'p': <skfem CellBasis(MeshTri1, ElementTriP1) object>\n",
            "  Number of elements: 32\n",
            "  Number of DOFs: 25\n",
            "  Size: 9216 B}\n",
            "u_bc_dofs[u^1] = [ 0  2  4  6  8 10 18 20 28 30 38 40 42 44 46 48]\n",
            "u_bc_dofs[u^2] = [ 1  3  5  7  9 11 19 21 29 31 39 41 43 45 47 49]\n",
            "<skfem DofsView(MeshTri1, ElementVector) object>\n",
            "  Number of nodal DOFs: 10 ['u^1' 'u^2']\n",
            "  Number of facet DOFs: 8 ['u^1' 'u^2']\n",
            "<skfem DofsView(MeshTri1, ElementVector) object>\n",
            "  Number of nodal DOFs: 10 ['u^1' 'u^2']\n",
            "  Number of facet DOFs: 8 ['u^1' 'u^2']\n",
            "<skfem DofsView(MeshTri1, ElementTriP1) object>\n",
            "  Number of nodal DOFs: 5 ['u']\n",
            "<skfem DofsView(MeshTri1, ElementTriP1) object>\n",
            "  Number of nodal DOFs: 5 ['u']\n"
          ]
        }
      ]
    },
    {
      "cell_type": "code",
      "source": [
        "# Plot results pressure\n",
        "\n",
        "ax = draw(mesh)\n",
        "plot(basis['p'], pressure, ax=ax)\n",
        "savefig('result_pressure.png')\n"
      ],
      "metadata": {
        "colab": {
          "base_uri": "https://localhost:8080/",
          "height": 406
        },
        "id": "XO1p8rhX_ijD",
        "outputId": "db369a2e-d1ea-45d6-9f63-4e98c31f1af1"
      },
      "execution_count": null,
      "outputs": [
        {
          "output_type": "display_data",
          "data": {
            "text/plain": [
              "<Figure size 640x480 with 1 Axes>"
            ],
            "image/png": "[encoded data removed]"
          },
          "metadata": {}
        }
      ]
    },
    {
      "cell_type": "code",
      "source": [
        "import matplotlib.pyplot as plt\n",
        "import skfem\n",
        "\n",
        "# Plot results pressure\n",
        "print(basis['u'])\n",
        "\n",
        "print('nodal_dofs=',basis['u'].nodal_dofs.shape)\n",
        "print('edge_dofs=',basis['u'].edge_dofs.shape)\n",
        "print('facet_dofs=',basis['u'].facet_dofs.shape)\n",
        "\n",
        "velocity_nodes = velocity[basis['u'].nodal_dofs]\n",
        "print('velocity_nodes.shape=',velocity_nodes.shape)\n",
        "\n",
        "print(basis['p'])\n",
        "print('pressure.shape=',pressure.shape[0])\n",
        "\n",
        "ax = draw(mesh)\n",
        "plot(basis['p'], velocity_nodes[0], ax=ax)\n",
        "savefig('result_velocity_x.png')\n",
        "\n",
        "ax = draw(mesh)\n",
        "plot(basis['p'], velocity_nodes[1], ax=ax)\n",
        "savefig('result_velocity_y.png')\n"
      ],
      "metadata": {
        "colab": {
          "base_uri": "https://localhost:8080/",
          "height": 1000
        },
        "id": "R9yr8TctK3Q6",
        "outputId": "5259a3e9-b100-43f2-cbd0-073ee98674ae"
      },
      "execution_count": null,
      "outputs": [
        {
          "output_type": "stream",
          "name": "stdout",
          "text": [
            "<skfem CellBasis(MeshTri1, ElementVector) object>\n",
            "  Number of elements: 32\n",
            "  Number of DOFs: 162\n",
            "  Size: 73728 B\n",
            "nodal_dofs= (2, 25)\n",
            "edge_dofs= (0, 0)\n",
            "facet_dofs= (2, 56)\n",
            "velocity_nodes.shape= (2, 25)\n",
            "<skfem CellBasis(MeshTri1, ElementTriP1) object>\n",
            "  Number of elements: 32\n",
            "  Number of DOFs: 25\n",
            "  Size: 9216 B\n",
            "pressure.shape= 25\n"
          ]
        },
        {
          "output_type": "display_data",
          "data": {
            "text/plain": [
              "<Figure size 640x480 with 1 Axes>"
            ],
            "image/png": "[encoded data removed]"
          },
          "metadata": {}
        },
        {
          "output_type": "display_data",
          "data": {
            "text/plain": [
              "<Figure size 640x480 with 1 Axes>"
            ],
            "image/png": "[encoded data removed]"
          },
          "metadata": {}
        }
      ]
    },
    {
      "cell_type": "code",
      "source": [
        "# Plot result velocity\n",
        "\n",
        "ax = draw(mesh)\n",
        "velocity1 = velocity[basis['u'].nodal_dofs]\n",
        "\n",
        "ax.quiver(*mesh.p, *velocity1, mesh.p[0])  # colour by buoyancy\n",
        "savefig('result_velocity.png')"
      ],
      "metadata": {
        "colab": {
          "base_uri": "https://localhost:8080/",
          "height": 742
        },
        "id": "asTOn5F3A9s-",
        "outputId": "b94bc50d-07e2-42bf-d120-9535ebea5d89"
      },
      "execution_count": null,
      "outputs": [
        {
          "output_type": "error",
          "ename": "ValueError",
          "evalue": "Argument U has a size 9 which does not match 25, the number of arrow positions",
          "traceback": [
            "\u001b[0;31m---------------------------------------------------------------------------\u001b[0m",
            "\u001b[0;31mValueError\u001b[0m                                Traceback (most recent call last)",
            "\u001b[0;32m<ipython-input-22-f189e67e5de4>\u001b[0m in \u001b[0;36m<cell line: 6>\u001b[0;34m()\u001b[0m\n\u001b[1;32m      4\u001b[0m \u001b[0mvelocity1\u001b[0m \u001b[0;34m=\u001b[0m \u001b[0mvelocity\u001b[0m\u001b[0;34m[\u001b[0m\u001b[0mbasis\u001b[0m\u001b[0;34m[\u001b[0m\u001b[0;34m'u'\u001b[0m\u001b[0;34m]\u001b[0m\u001b[0;34m.\u001b[0m\u001b[0mnodal_dofs\u001b[0m\u001b[0;34m]\u001b[0m\u001b[0;34m\u001b[0m\u001b[0;34m\u001b[0m\u001b[0m\n\u001b[1;32m      5\u001b[0m \u001b[0;34m\u001b[0m\u001b[0m\n\u001b[0;32m----> 6\u001b[0;31m \u001b[0max\u001b[0m\u001b[0;34m.\u001b[0m\u001b[0mquiver\u001b[0m\u001b[0;34m(\u001b[0m\u001b[0;34m*\u001b[0m\u001b[0mmesh\u001b[0m\u001b[0;34m.\u001b[0m\u001b[0mp\u001b[0m\u001b[0;34m,\u001b[0m \u001b[0;34m*\u001b[0m\u001b[0mvelocity1\u001b[0m\u001b[0;34m,\u001b[0m \u001b[0mmesh\u001b[0m\u001b[0;34m.\u001b[0m\u001b[0mp\u001b[0m\u001b[0;34m[\u001b[0m\u001b[0;36m0\u001b[0m\u001b[0;34m]\u001b[0m\u001b[0;34m)\u001b[0m  \u001b[0;31m# colour by buoyancy\u001b[0m\u001b[0;34m\u001b[0m\u001b[0;34m\u001b[0m\u001b[0m\n\u001b[0m\u001b[1;32m      7\u001b[0m \u001b[0msavefig\u001b[0m\u001b[0;34m(\u001b[0m\u001b[0;34m'result_velocity.png'\u001b[0m\u001b[0;34m)\u001b[0m\u001b[0;34m\u001b[0m\u001b[0;34m\u001b[0m\u001b[0m\n",
            "\u001b[0;32m/usr/local/lib/python3.10/dist-packages/matplotlib/__init__.py\u001b[0m in \u001b[0;36minner\u001b[0;34m(ax, data, *args, **kwargs)\u001b[0m\n\u001b[1;32m   1440\u001b[0m     \u001b[0;32mdef\u001b[0m \u001b[0minner\u001b[0m\u001b[0;34m(\u001b[0m\u001b[0max\u001b[0m\u001b[0;34m,\u001b[0m \u001b[0;34m*\u001b[0m\u001b[0margs\u001b[0m\u001b[0;34m,\u001b[0m \u001b[0mdata\u001b[0m\u001b[0;34m=\u001b[0m\u001b[0;32mNone\u001b[0m\u001b[0;34m,\u001b[0m \u001b[0;34m**\u001b[0m\u001b[0mkwargs\u001b[0m\u001b[0;34m)\u001b[0m\u001b[0;34m:\u001b[0m\u001b[0;34m\u001b[0m\u001b[0;34m\u001b[0m\u001b[0m\n\u001b[1;32m   1441\u001b[0m         \u001b[0;32mif\u001b[0m \u001b[0mdata\u001b[0m \u001b[0;32mis\u001b[0m \u001b[0;32mNone\u001b[0m\u001b[0;34m:\u001b[0m\u001b[0;34m\u001b[0m\u001b[0;34m\u001b[0m\u001b[0m\n\u001b[0;32m-> 1442\u001b[0;31m             \u001b[0;32mreturn\u001b[0m \u001b[0mfunc\u001b[0m\u001b[0;34m(\u001b[0m\u001b[0max\u001b[0m\u001b[0;34m,\u001b[0m \u001b[0;34m*\u001b[0m\u001b[0mmap\u001b[0m\u001b[0;34m(\u001b[0m\u001b[0msanitize_sequence\u001b[0m\u001b[0;34m,\u001b[0m \u001b[0margs\u001b[0m\u001b[0;34m)\u001b[0m\u001b[0;34m,\u001b[0m \u001b[0;34m**\u001b[0m\u001b[0mkwargs\u001b[0m\u001b[0;34m)\u001b[0m\u001b[0;34m\u001b[0m\u001b[0;34m\u001b[0m\u001b[0m\n\u001b[0m\u001b[1;32m   1443\u001b[0m \u001b[0;34m\u001b[0m\u001b[0m\n\u001b[1;32m   1444\u001b[0m         \u001b[0mbound\u001b[0m \u001b[0;34m=\u001b[0m \u001b[0mnew_sig\u001b[0m\u001b[0;34m.\u001b[0m\u001b[0mbind\u001b[0m\u001b[0;34m(\u001b[0m\u001b[0max\u001b[0m\u001b[0;34m,\u001b[0m \u001b[0;34m*\u001b[0m\u001b[0margs\u001b[0m\u001b[0;34m,\u001b[0m \u001b[0;34m**\u001b[0m\u001b[0mkwargs\u001b[0m\u001b[0;34m)\u001b[0m\u001b[0;34m\u001b[0m\u001b[0;34m\u001b[0m\u001b[0m\n",
            "\u001b[0;32m/usr/local/lib/python3.10/dist-packages/matplotlib/axes/_axes.py\u001b[0m in \u001b[0;36mquiver\u001b[0;34m(self, *args, **kwargs)\u001b[0m\n\u001b[1;32m   5165\u001b[0m         \u001b[0;31m# Make sure units are handled for x and y values\u001b[0m\u001b[0;34m\u001b[0m\u001b[0;34m\u001b[0m\u001b[0m\n\u001b[1;32m   5166\u001b[0m         \u001b[0margs\u001b[0m \u001b[0;34m=\u001b[0m \u001b[0mself\u001b[0m\u001b[0;34m.\u001b[0m\u001b[0m_quiver_units\u001b[0m\u001b[0;34m(\u001b[0m\u001b[0margs\u001b[0m\u001b[0;34m,\u001b[0m \u001b[0mkwargs\u001b[0m\u001b[0;34m)\u001b[0m\u001b[0;34m\u001b[0m\u001b[0;34m\u001b[0m\u001b[0m\n\u001b[0;32m-> 5167\u001b[0;31m         \u001b[0mq\u001b[0m \u001b[0;34m=\u001b[0m \u001b[0mmquiver\u001b[0m\u001b[0;34m.\u001b[0m\u001b[0mQuiver\u001b[0m\u001b[0;34m(\u001b[0m\u001b[0mself\u001b[0m\u001b[0;34m,\u001b[0m \u001b[0;34m*\u001b[0m\u001b[0margs\u001b[0m\u001b[0;34m,\u001b[0m \u001b[0;34m**\u001b[0m\u001b[0mkwargs\u001b[0m\u001b[0;34m)\u001b[0m\u001b[0;34m\u001b[0m\u001b[0;34m\u001b[0m\u001b[0m\n\u001b[0m\u001b[1;32m   5168\u001b[0m         \u001b[0mself\u001b[0m\u001b[0;34m.\u001b[0m\u001b[0madd_collection\u001b[0m\u001b[0;34m(\u001b[0m\u001b[0mq\u001b[0m\u001b[0;34m,\u001b[0m \u001b[0mautolim\u001b[0m\u001b[0;34m=\u001b[0m\u001b[0;32mTrue\u001b[0m\u001b[0;34m)\u001b[0m\u001b[0;34m\u001b[0m\u001b[0;34m\u001b[0m\u001b[0m\n\u001b[1;32m   5169\u001b[0m         \u001b[0mself\u001b[0m\u001b[0;34m.\u001b[0m\u001b[0m_request_autoscale_view\u001b[0m\u001b[0;34m(\u001b[0m\u001b[0;34m)\u001b[0m\u001b[0;34m\u001b[0m\u001b[0;34m\u001b[0m\u001b[0m\n",
            "\u001b[0;32m/usr/local/lib/python3.10/dist-packages/matplotlib/quiver.py\u001b[0m in \u001b[0;36m__init__\u001b[0;34m(self, ax, scale, headwidth, headlength, headaxislength, minshaft, minlength, units, scale_units, angles, width, color, pivot, *args, **kwargs)\u001b[0m\n\u001b[1;32m    503\u001b[0m                          closed=False, **kwargs)\n\u001b[1;32m    504\u001b[0m         \u001b[0mself\u001b[0m\u001b[0;34m.\u001b[0m\u001b[0mpolykw\u001b[0m \u001b[0;34m=\u001b[0m \u001b[0mkwargs\u001b[0m\u001b[0;34m\u001b[0m\u001b[0;34m\u001b[0m\u001b[0m\n\u001b[0;32m--> 505\u001b[0;31m         \u001b[0mself\u001b[0m\u001b[0;34m.\u001b[0m\u001b[0mset_UVC\u001b[0m\u001b[0;34m(\u001b[0m\u001b[0mU\u001b[0m\u001b[0;34m,\u001b[0m \u001b[0mV\u001b[0m\u001b[0;34m,\u001b[0m \u001b[0mC\u001b[0m\u001b[0;34m)\u001b[0m\u001b[0;34m\u001b[0m\u001b[0;34m\u001b[0m\u001b[0m\n\u001b[0m\u001b[1;32m    506\u001b[0m         \u001b[0mself\u001b[0m\u001b[0;34m.\u001b[0m\u001b[0m_dpi_at_last_init\u001b[0m \u001b[0;34m=\u001b[0m \u001b[0;32mNone\u001b[0m\u001b[0;34m\u001b[0m\u001b[0;34m\u001b[0m\u001b[0m\n\u001b[1;32m    507\u001b[0m \u001b[0;34m\u001b[0m\u001b[0m\n",
            "\u001b[0;32m/usr/local/lib/python3.10/dist-packages/matplotlib/quiver.py\u001b[0m in \u001b[0;36mset_UVC\u001b[0;34m(self, U, V, C)\u001b[0m\n\u001b[1;32m    553\u001b[0m         \u001b[0;32mfor\u001b[0m \u001b[0mname\u001b[0m\u001b[0;34m,\u001b[0m \u001b[0mvar\u001b[0m \u001b[0;32min\u001b[0m \u001b[0mzip\u001b[0m\u001b[0;34m(\u001b[0m\u001b[0;34m(\u001b[0m\u001b[0;34m'U'\u001b[0m\u001b[0;34m,\u001b[0m \u001b[0;34m'V'\u001b[0m\u001b[0;34m,\u001b[0m \u001b[0;34m'C'\u001b[0m\u001b[0;34m)\u001b[0m\u001b[0;34m,\u001b[0m \u001b[0;34m(\u001b[0m\u001b[0mU\u001b[0m\u001b[0;34m,\u001b[0m \u001b[0mV\u001b[0m\u001b[0;34m,\u001b[0m \u001b[0mC\u001b[0m\u001b[0;34m)\u001b[0m\u001b[0;34m)\u001b[0m\u001b[0;34m:\u001b[0m\u001b[0;34m\u001b[0m\u001b[0;34m\u001b[0m\u001b[0m\n\u001b[1;32m    554\u001b[0m             \u001b[0;32mif\u001b[0m \u001b[0;32mnot\u001b[0m \u001b[0;34m(\u001b[0m\u001b[0mvar\u001b[0m \u001b[0;32mis\u001b[0m \u001b[0;32mNone\u001b[0m \u001b[0;32mor\u001b[0m \u001b[0mvar\u001b[0m\u001b[0;34m.\u001b[0m\u001b[0msize\u001b[0m \u001b[0;34m==\u001b[0m \u001b[0mself\u001b[0m\u001b[0;34m.\u001b[0m\u001b[0mN\u001b[0m \u001b[0;32mor\u001b[0m \u001b[0mvar\u001b[0m\u001b[0;34m.\u001b[0m\u001b[0msize\u001b[0m \u001b[0;34m==\u001b[0m \u001b[0;36m1\u001b[0m\u001b[0;34m)\u001b[0m\u001b[0;34m:\u001b[0m\u001b[0;34m\u001b[0m\u001b[0;34m\u001b[0m\u001b[0m\n\u001b[0;32m--> 555\u001b[0;31m                 raise ValueError(f'Argument {name} has a size {var.size}'\n\u001b[0m\u001b[1;32m    556\u001b[0m                                  \u001b[0;34mf' which does not match {self.N},'\u001b[0m\u001b[0;34m\u001b[0m\u001b[0;34m\u001b[0m\u001b[0m\n\u001b[1;32m    557\u001b[0m                                  ' the number of arrow positions')\n",
            "\u001b[0;31mValueError\u001b[0m: Argument U has a size 9 which does not match 25, the number of arrow positions"
          ]
        },
        {
          "output_type": "display_data",
          "data": {
            "text/plain": [
              "<Figure size 640x480 with 1 Axes>"
            ],
            "image/png": "[encoded data removed]"
          },
          "metadata": {}
        }
      ]
    },
    {
      "cell_type": "code",
      "source": [
        "# Export results as VTK\n",
        "\n",
        "mesh.save('result_pressure.vtk', {'pressure': pressure[basis['p'].nodal_dofs].T})\n",
        "mesh.save('result_velocity.vtk', {'velocity': velocity[basis['u'].nodal_dofs].T})"
      ],
      "metadata": {
        "colab": {
          "base_uri": "https://localhost:8080/",
          "height": 65
        },
        "id": "75Ybssdn_V5Y",
        "outputId": "252e0b34-2a51-4c3a-e452-32c677c61657"
      },
      "execution_count": null,
      "outputs": [
        {
          "output_type": "display_data",
          "data": {
            "text/plain": [
              "\u001b[1;33mWarning:\u001b[0m\u001b[33m VTK requires 3D points, but 2D points given. Appending \u001b[0m\u001b[1;33m0\u001b[0m\u001b[33m third component.\u001b[0m\n"
            ],
            "text/html": [
              "<pre style=\"white-space:pre;overflow-x:auto;line-height:normal;font-family:Menlo,'DejaVu Sans Mono',consolas,'Courier New',monospace\"><span style=\"color: #808000; text-decoration-color: #808000; font-weight: bold\">Warning:</span><span style=\"color: #808000; text-decoration-color: #808000\"> VTK requires 3D points, but 2D points given. Appending </span><span style=\"color: #808000; text-decoration-color: #808000; font-weight: bold\">0</span><span style=\"color: #808000; text-decoration-color: #808000\"> third component.</span>\n",
              "</pre>\n"
            ]
          },
          "metadata": {}
        },
        {
          "output_type": "display_data",
          "data": {
            "text/plain": [
              "\u001b[1;33mWarning:\u001b[0m\u001b[33m VTK requires 3D points, but 2D points given. Appending \u001b[0m\u001b[1;33m0\u001b[0m\u001b[33m third component.\u001b[0m\n"
            ],
            "text/html": [
              "<pre style=\"white-space:pre;overflow-x:auto;line-height:normal;font-family:Menlo,'DejaVu Sans Mono',consolas,'Courier New',monospace\"><span style=\"color: #808000; text-decoration-color: #808000; font-weight: bold\">Warning:</span><span style=\"color: #808000; text-decoration-color: #808000\"> VTK requires 3D points, but 2D points given. Appending </span><span style=\"color: #808000; text-decoration-color: #808000; font-weight: bold\">0</span><span style=\"color: #808000; text-decoration-color: #808000\"> third component.</span>\n",
              "</pre>\n"
            ]
          },
          "metadata": {}
        },
        {
          "output_type": "display_data",
          "data": {
            "text/plain": [
              "\u001b[1;33mWarning:\u001b[0m\u001b[33m VTK requires 3D vectors, but 2D vectors given. Appending \u001b[0m\u001b[1;33m0\u001b[0m\u001b[33m third component to velocity.\u001b[0m\n"
            ],
            "text/html": [
              "<pre style=\"white-space:pre;overflow-x:auto;line-height:normal;font-family:Menlo,'DejaVu Sans Mono',consolas,'Courier New',monospace\"><span style=\"color: #808000; text-decoration-color: #808000; font-weight: bold\">Warning:</span><span style=\"color: #808000; text-decoration-color: #808000\"> VTK requires 3D vectors, but 2D vectors given. Appending </span><span style=\"color: #808000; text-decoration-color: #808000; font-weight: bold\">0</span><span style=\"color: #808000; text-decoration-color: #808000\"> third component to velocity.</span>\n",
              "</pre>\n"
            ]
          },
          "metadata": {}
        }
      ]
    },
    {
      "cell_type": "code",
      "source": [
        "#============ FEM Solver for (psi)\n",
        "\n",
        "# Basis for (psi)\n",
        "\n",
        "basis['psi'] = basis['u'].with_element(ElementTriP2())\n",
        "\n",
        "# Assembly problem for (psi)\n",
        "\n",
        "A = asm(laplace, basis['psi'])\n",
        "\n",
        "vorticity = asm(rot, basis['psi'], w=basis['u'].interpolate(velocity))\n",
        "\n",
        "# Solve problem for (psi)\n",
        "\n",
        "psi = solve(*condense(A, vorticity, D=basis['psi'].get_dofs()))"
      ],
      "metadata": {
        "id": "CJa0dbc06rOn"
      },
      "execution_count": null,
      "outputs": []
    },
    {
      "cell_type": "code",
      "source": [
        "# Plot results psi\n",
        "\n",
        "mesh_tri = Triangulation(*mesh.p, mesh.t.T)\n",
        "\n",
        "ax = draw(mesh)\n",
        "ax.tricontour(mesh_tri, psi[basis['psi'].nodal_dofs.flatten()])\n",
        "savefig('result_psi.png')\n"
      ],
      "metadata": {
        "colab": {
          "base_uri": "https://localhost:8080/",
          "height": 406
        },
        "id": "vDx1-v_o7Bby",
        "outputId": "e50fd2f8-25b3-4529-f955-126b25b12ad2"
      },
      "execution_count": null,
      "outputs": [
        {
          "output_type": "display_data",
          "data": {
            "text/plain": [
              "<Figure size 640x480 with 1 Axes>"
            ],
            "image/png": "[encoded data removed]"
          },
          "metadata": {}
        }
      ]
    },
    {
      "cell_type": "code",
      "source": [
        "# Save results as VTK\n",
        "\n",
        "mesh.save('result_psi.vtk', {'psi': psi[basis['psi'].nodal_dofs].T})\n"
      ],
      "metadata": {
        "colab": {
          "base_uri": "https://localhost:8080/",
          "height": 33
        },
        "id": "0NpKaNo6BfBv",
        "outputId": "35c7f4c0-7168-4677-8484-cfb9cc3b67ad"
      },
      "execution_count": null,
      "outputs": [
        {
          "output_type": "display_data",
          "data": {
            "text/plain": [
              "\u001b[1;33mWarning:\u001b[0m\u001b[33m VTK requires 3D points, but 2D points given. Appending \u001b[0m\u001b[1;33m0\u001b[0m\u001b[33m third component.\u001b[0m\n"
            ],
            "text/html": [
              "<pre style=\"white-space:pre;overflow-x:auto;line-height:normal;font-family:Menlo,'DejaVu Sans Mono',consolas,'Courier New',monospace\"><span style=\"color: #808000; text-decoration-color: #808000; font-weight: bold\">Warning:</span><span style=\"color: #808000; text-decoration-color: #808000\"> VTK requires 3D points, but 2D points given. Appending </span><span style=\"color: #808000; text-decoration-color: #808000; font-weight: bold\">0</span><span style=\"color: #808000; text-decoration-color: #808000\"> third component.</span>\n",
              "</pre>\n"
            ]
          },
          "metadata": {}
        }
      ]
    }
  ],
  "metadata": {
    "kernelspec": {
      "display_name": "Python 3",
      "language": "python",
      "name": "python3"
    },
    "language_info": {
      "codemirror_mode": {
        "name": "ipython",
        "version": 3
      },
      "file_extension": ".py",
      "mimetype": "text/x-python",
      "name": "python",
      "nbconvert_exporter": "python",
      "pygments_lexer": "ipython3",
      "version": "3.8.3"
    },
    "colab": {
      "provenance": [],
      "include_colab_link": true
    }
  },
  "nbformat": 4,
  "nbformat_minor": 0
}